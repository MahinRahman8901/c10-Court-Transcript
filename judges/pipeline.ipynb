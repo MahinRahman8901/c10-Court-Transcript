{
 "cells": [
  {
   "cell_type": "markdown",
   "metadata": {},
   "source": [
    "## Imports"
   ]
  },
  {
   "cell_type": "code",
   "execution_count": 1,
   "metadata": {},
   "outputs": [],
   "source": [
    "from os import environ as ENV\n",
    "from time import sleep\n",
    "import logging\n",
    "import re\n",
    "from dotenv import load_dotenv\n",
    "import requests\n",
    "from bs4 import BeautifulSoup\n",
    "import pandas as pd"
   ]
  },
  {
   "cell_type": "markdown",
   "metadata": {},
   "source": [
    "## Extract"
   ]
  },
  {
   "cell_type": "markdown",
   "metadata": {},
   "source": [
    "### URLs"
   ]
  },
  {
   "cell_type": "code",
   "execution_count": 2,
   "metadata": {},
   "outputs": [],
   "source": [
    "BASE_URL = \"https://www.judiciary.uk/about-the-judiciary/who-are-the-judiciary/list-of-members-of-the-judiciary/\""
   ]
  },
  {
   "cell_type": "code",
   "execution_count": 3,
   "metadata": {},
   "outputs": [],
   "source": [
    "def scrape_judge_urls(web_url: str) -> dict[str:str]:\n",
    "    \"\"\"Get the url for each list of judges\"\"\"\n",
    "    \n",
    "    try:\n",
    "        response = requests.get(web_url, timeout=10)\n",
    "\n",
    "        soup = BeautifulSoup(response.content, 'html.parser')\n",
    "\n",
    "        judge_lists = soup.find_all(\n",
    "            \"a\", class_=\"card__link\")\n",
    "        \n",
    "        judge_dict = {}\n",
    "        for judge_list in judge_lists:\n",
    "            name = re.search(r\"(( \\(?[A-Z][a-z]*.*\\)?)+)</a>\", str(judge_list)\n",
    "                             ).group(2).strip().lstrip(\"List of \")\n",
    "            url = judge_list[\"href\"]\n",
    "            judge_dict[name] = url\n",
    "        \n",
    "        return judge_dict\n",
    "\n",
    "    except requests.RequestException as error:\n",
    "        logging.info(f\"Error fetching URL: {error}\")\n",
    "        return []"
   ]
  },
  {
   "cell_type": "code",
   "execution_count": 4,
   "metadata": {},
   "outputs": [],
   "source": [
    "judge_dict = scrape_judge_urls(BASE_URL)"
   ]
  },
  {
   "cell_type": "code",
   "execution_count": 5,
   "metadata": {},
   "outputs": [
    {
     "data": {
      "text/plain": [
       "{'Bench Chairs': 'https://www.judiciary.uk/about-the-judiciary/who-are-the-judiciary/list-of-members-of-the-judiciary/bench-chairmen-list/',\n",
       " 'District Judges (Magistrates’ Courts)': 'https://www.judiciary.uk/about-the-judiciary/who-are-the-judiciary/list-of-members-of-the-judiciary/dj-mags-ct-list/',\n",
       " 'Diversity and Community Relations Judges (DCRJs)': 'https://www.judiciary.uk/about-the-judiciary/who-are-the-judiciary/list-of-members-of-the-judiciary/diversity-and-community-relations-judges-list/',\n",
       " 'Diversity and Community Relations Magistrates': 'https://www.judiciary.uk/about-the-judiciary/who-are-the-judiciary/list-of-members-of-the-judiciary/diversity-community-and-relations-magistrates/',\n",
       " 'Judge Advocates General': 'https://www.judiciary.uk/about-the-judiciary/who-are-the-judiciary/list-of-members-of-the-judiciary/jag-list/',\n",
       " 'Circuit Judges': 'https://www.judiciary.uk/about-the-judiciary/who-are-the-judiciary/list-of-members-of-the-judiciary/circuit-judge-list/',\n",
       " 'District Judges': 'https://www.judiciary.uk/about-the-judiciary/who-are-the-judiciary/list-of-members-of-the-judiciary/district-judge-list/',\n",
       " 'High Court Masters, Costs Judges and Insolvency and Companies Court Judges': 'https://www.judiciary.uk/about-the-judiciary/who-are-the-judiciary/list-of-members-of-the-judiciary/hc-masters-list/'}"
      ]
     },
     "execution_count": 5,
     "metadata": {},
     "output_type": "execute_result"
    }
   ],
   "source": [
    "judge_dict"
   ]
  },
  {
   "cell_type": "markdown",
   "metadata": {},
   "source": [
    "### Bench Chairs"
   ]
  },
  {
   "cell_type": "code",
   "execution_count": 6,
   "metadata": {},
   "outputs": [],
   "source": [
    "def scrape_BC(web_url: str) -> list[str]:\n",
    "    \"\"\"Get data from a list of judges with a URL\"\"\"\n",
    "\n",
    "    try:\n",
    "        response = requests.get(web_url, timeout=10)\n",
    "\n",
    "        soup = BeautifulSoup(response.content, 'html.parser')\n",
    "\n",
    "        regions = soup.find_all(\n",
    "            \"h2\", class_=\"wp-block-heading\")\n",
    "        regions = [region.text for region in regions]\n",
    "\n",
    "        region_tables = soup.find_all(\n",
    "            \"table\", class_=\"govuk-table\")\n",
    "        region_tables = [[row.text\n",
    "                          for row in table.find_all(\"td\", class_=\"govuk-table__cell\")\n",
    "                          if \"strong\" not in str(row)]\n",
    "                         for table in region_tables]\n",
    "\n",
    "        rows = []\n",
    "        for t, table in list(enumerate(region_tables)):\n",
    "            for c in range(0, len(table), 2):\n",
    "                rows.append({\"region\":regions[t],\n",
    "                             \"bench\":table[c],\n",
    "                             \"name\":table[c+1]})\n",
    "        \n",
    "        return pd.DataFrame(rows)\n",
    "        \n",
    "    except requests.RequestException as error:\n",
    "        logging.info(f\"Error fetching URL: {error}\")\n",
    "        return []"
   ]
  },
  {
   "cell_type": "code",
   "execution_count": 7,
   "metadata": {},
   "outputs": [],
   "source": [
    "BC = scrape_BC(judge_dict[\"Bench Chairs\"])"
   ]
  },
  {
   "cell_type": "code",
   "execution_count": 8,
   "metadata": {},
   "outputs": [],
   "source": [
    "BC[\"first_name\"] = BC[\"name\"].str.split().str[0]"
   ]
  },
  {
   "cell_type": "code",
   "execution_count": 9,
   "metadata": {},
   "outputs": [],
   "source": [
    "BC[\"last_name\"] = BC[\"name\"].str.split().str[1]"
   ]
  },
  {
   "cell_type": "code",
   "execution_count": 10,
   "metadata": {},
   "outputs": [],
   "source": [
    "BC = BC.drop(columns=[\"name\"])"
   ]
  },
  {
   "cell_type": "code",
   "execution_count": 11,
   "metadata": {},
   "outputs": [
    {
     "data": {
      "text/html": [
       "<div>\n",
       "<style scoped>\n",
       "    .dataframe tbody tr th:only-of-type {\n",
       "        vertical-align: middle;\n",
       "    }\n",
       "\n",
       "    .dataframe tbody tr th {\n",
       "        vertical-align: top;\n",
       "    }\n",
       "\n",
       "    .dataframe thead th {\n",
       "        text-align: right;\n",
       "    }\n",
       "</style>\n",
       "<table border=\"1\" class=\"dataframe\">\n",
       "  <thead>\n",
       "    <tr style=\"text-align: right;\">\n",
       "      <th></th>\n",
       "      <th>region</th>\n",
       "      <th>bench</th>\n",
       "      <th>first_name</th>\n",
       "      <th>last_name</th>\n",
       "    </tr>\n",
       "  </thead>\n",
       "  <tbody>\n",
       "    <tr>\n",
       "      <th>0</th>\n",
       "      <td>London</td>\n",
       "      <td>Central London</td>\n",
       "      <td>Maeve</td>\n",
       "      <td>Bromwich</td>\n",
       "    </tr>\n",
       "    <tr>\n",
       "      <th>1</th>\n",
       "      <td>London</td>\n",
       "      <td>East London</td>\n",
       "      <td>Tina</td>\n",
       "      <td>Hayhow</td>\n",
       "    </tr>\n",
       "    <tr>\n",
       "      <th>2</th>\n",
       "      <td>London</td>\n",
       "      <td>North East London</td>\n",
       "      <td>Robert</td>\n",
       "      <td>Chambers</td>\n",
       "    </tr>\n",
       "    <tr>\n",
       "      <th>3</th>\n",
       "      <td>London</td>\n",
       "      <td>North London</td>\n",
       "      <td>Gwilwyn</td>\n",
       "      <td>Wright</td>\n",
       "    </tr>\n",
       "    <tr>\n",
       "      <th>4</th>\n",
       "      <td>London</td>\n",
       "      <td>North West London</td>\n",
       "      <td>Valerie</td>\n",
       "      <td>Crookes</td>\n",
       "    </tr>\n",
       "    <tr>\n",
       "      <th>...</th>\n",
       "      <td>...</td>\n",
       "      <td>...</td>\n",
       "      <td>...</td>\n",
       "      <td>...</td>\n",
       "    </tr>\n",
       "    <tr>\n",
       "      <th>70</th>\n",
       "      <td>Wales</td>\n",
       "      <td>Ceredigion &amp; Pembrokeshire</td>\n",
       "      <td>Jennie</td>\n",
       "      <td>Robson</td>\n",
       "    </tr>\n",
       "    <tr>\n",
       "      <th>71</th>\n",
       "      <td>Wales</td>\n",
       "      <td>Montgomeryshire</td>\n",
       "      <td>Stephen</td>\n",
       "      <td>Pembroke</td>\n",
       "    </tr>\n",
       "    <tr>\n",
       "      <th>72</th>\n",
       "      <td>Wales</td>\n",
       "      <td>North East Wales</td>\n",
       "      <td>Ceri</td>\n",
       "      <td>Hughes</td>\n",
       "    </tr>\n",
       "    <tr>\n",
       "      <th>73</th>\n",
       "      <td>Wales</td>\n",
       "      <td>North Central Wales</td>\n",
       "      <td>Hilary</td>\n",
       "      <td>Owen</td>\n",
       "    </tr>\n",
       "    <tr>\n",
       "      <th>74</th>\n",
       "      <td>Wales</td>\n",
       "      <td>North West Wales</td>\n",
       "      <td>Sian</td>\n",
       "      <td>Jones-Evans</td>\n",
       "    </tr>\n",
       "  </tbody>\n",
       "</table>\n",
       "<p>75 rows × 4 columns</p>\n",
       "</div>"
      ],
      "text/plain": [
       "    region                       bench first_name    last_name\n",
       "0   London              Central London      Maeve     Bromwich\n",
       "1   London                 East London       Tina       Hayhow\n",
       "2   London           North East London     Robert     Chambers\n",
       "3   London                North London    Gwilwyn       Wright\n",
       "4   London           North West London    Valerie      Crookes\n",
       "..     ...                         ...        ...          ...\n",
       "70   Wales  Ceredigion & Pembrokeshire     Jennie       Robson\n",
       "71   Wales             Montgomeryshire    Stephen     Pembroke\n",
       "72   Wales            North East Wales       Ceri       Hughes\n",
       "73   Wales         North Central Wales     Hilary         Owen\n",
       "74   Wales            North West Wales       Sian  Jones-Evans\n",
       "\n",
       "[75 rows x 4 columns]"
      ]
     },
     "execution_count": 11,
     "metadata": {},
     "output_type": "execute_result"
    }
   ],
   "source": [
    "BC"
   ]
  },
  {
   "cell_type": "markdown",
   "metadata": {},
   "source": [
    "### DJMC"
   ]
  },
  {
   "cell_type": "code",
   "execution_count": 16,
   "metadata": {},
   "outputs": [],
   "source": [
    "def scrape_DJMC(web_url: str) -> list[str]:\n",
    "    \"\"\"Get data from a list of judges with a URL\"\"\"\n",
    "\n",
    "    try:\n",
    "        response = requests.get(web_url, timeout=10)\n",
    "\n",
    "        soup = BeautifulSoup(response.content, 'html.parser')\n",
    "\n",
    "        table = soup.find_all(\n",
    "            \"table\", class_=\"govuk-table\")\n",
    "\n",
    "        cells = soup.find_all(\n",
    "            \"td\", class_=\"govuk-table__cell\")\n",
    "        cells = [cell.text\n",
    "                 for cell in cells\n",
    "                 if \"strong\" not in str(cell)]\n",
    "\n",
    "        rows = []\n",
    "        for c in range(0, len(cells), 3):\n",
    "            rows.append({\"judge\": cells[c],\n",
    "                         \"circuit\": cells[c+1],\n",
    "                         \"appointment\": cells[c+2]})\n",
    "\n",
    "        return pd.DataFrame(rows)\n",
    "\n",
    "    except requests.RequestException as error:\n",
    "        logging.info(f\"Error fetching URL: {error}\")\n",
    "        return []"
   ]
  },
  {
   "cell_type": "code",
   "execution_count": 17,
   "metadata": {},
   "outputs": [
    {
     "data": {
      "text/html": [
       "<div>\n",
       "<style scoped>\n",
       "    .dataframe tbody tr th:only-of-type {\n",
       "        vertical-align: middle;\n",
       "    }\n",
       "\n",
       "    .dataframe tbody tr th {\n",
       "        vertical-align: top;\n",
       "    }\n",
       "\n",
       "    .dataframe thead th {\n",
       "        text-align: right;\n",
       "    }\n",
       "</style>\n",
       "<table border=\"1\" class=\"dataframe\">\n",
       "  <thead>\n",
       "    <tr style=\"text-align: right;\">\n",
       "      <th></th>\n",
       "      <th>judge</th>\n",
       "      <th>circuit</th>\n",
       "      <th>appointment</th>\n",
       "    </tr>\n",
       "  </thead>\n",
       "  <tbody>\n",
       "    <tr>\n",
       "      <th>0</th>\n",
       "      <td>District Judge (MC) Allen-Khimani</td>\n",
       "      <td>Midlands</td>\n",
       "      <td>08-06-19</td>\n",
       "    </tr>\n",
       "    <tr>\n",
       "      <th>1</th>\n",
       "      <td>District Judge (MC) Apted</td>\n",
       "      <td>North West</td>\n",
       "      <td>09-01-23</td>\n",
       "    </tr>\n",
       "    <tr>\n",
       "      <th>2</th>\n",
       "      <td>District Judge (MC) Austin</td>\n",
       "      <td>South West</td>\n",
       "      <td>14-04-23</td>\n",
       "    </tr>\n",
       "    <tr>\n",
       "      <th>3</th>\n",
       "      <td>District Judge (MC) Barnes</td>\n",
       "      <td>Midlands</td>\n",
       "      <td>06-02-23</td>\n",
       "    </tr>\n",
       "    <tr>\n",
       "      <th>4</th>\n",
       "      <td>District Judge (MC) Barron</td>\n",
       "      <td>South East</td>\n",
       "      <td>13-10-11</td>\n",
       "    </tr>\n",
       "    <tr>\n",
       "      <th>...</th>\n",
       "      <td>...</td>\n",
       "      <td>...</td>\n",
       "      <td>...</td>\n",
       "    </tr>\n",
       "    <tr>\n",
       "      <th>132</th>\n",
       "      <td>District Judge (MC) Wilkinson</td>\n",
       "      <td>Midlands</td>\n",
       "      <td>20-07-09</td>\n",
       "    </tr>\n",
       "    <tr>\n",
       "      <th>133</th>\n",
       "      <td>District Judge (MC) Williams</td>\n",
       "      <td>South East</td>\n",
       "      <td>03-01-22</td>\n",
       "    </tr>\n",
       "    <tr>\n",
       "      <th>134</th>\n",
       "      <td>District Judge (MC) Wilson</td>\n",
       "      <td>South East</td>\n",
       "      <td>01-11-21</td>\n",
       "    </tr>\n",
       "    <tr>\n",
       "      <th>135</th>\n",
       "      <td>District Judge (MC) Young</td>\n",
       "      <td>North East</td>\n",
       "      <td>16-03-20</td>\n",
       "    </tr>\n",
       "    <tr>\n",
       "      <th>136</th>\n",
       "      <td>District Judge (MC) Zani</td>\n",
       "      <td>London</td>\n",
       "      <td>22-01-01</td>\n",
       "    </tr>\n",
       "  </tbody>\n",
       "</table>\n",
       "<p>137 rows × 3 columns</p>\n",
       "</div>"
      ],
      "text/plain": [
       "                                 judge     circuit appointment\n",
       "0    District Judge (MC) Allen-Khimani    Midlands    08-06-19\n",
       "1            District Judge (MC) Apted  North West    09-01-23\n",
       "2           District Judge (MC) Austin  South West    14-04-23\n",
       "3           District Judge (MC) Barnes    Midlands    06-02-23\n",
       "4           District Judge (MC) Barron  South East    13-10-11\n",
       "..                                 ...         ...         ...\n",
       "132      District Judge (MC) Wilkinson    Midlands    20-07-09\n",
       "133       District Judge (MC) Williams  South East    03-01-22\n",
       "134         District Judge (MC) Wilson  South East    01-11-21\n",
       "135          District Judge (MC) Young  North East    16-03-20\n",
       "136           District Judge (MC) Zani      London    22-01-01\n",
       "\n",
       "[137 rows x 3 columns]"
      ]
     },
     "execution_count": 17,
     "metadata": {},
     "output_type": "execute_result"
    }
   ],
   "source": [
    "scrape_DJMC(judge_dict[\"District Judges (Magistrates’ Courts)\"])"
   ]
  },
  {
   "cell_type": "markdown",
   "metadata": {},
   "source": [
    "## Transform"
   ]
  },
  {
   "cell_type": "markdown",
   "metadata": {},
   "source": [
    "## Load"
   ]
  },
  {
   "cell_type": "code",
   "execution_count": null,
   "metadata": {},
   "outputs": [],
   "source": []
  }
 ],
 "metadata": {
  "kernelspec": {
   "display_name": "venv",
   "language": "python",
   "name": "python3"
  },
  "language_info": {
   "codemirror_mode": {
    "name": "ipython",
    "version": 3
   },
   "file_extension": ".py",
   "mimetype": "text/x-python",
   "name": "python",
   "nbconvert_exporter": "python",
   "pygments_lexer": "ipython3",
   "version": "3.12.3"
  }
 },
 "nbformat": 4,
 "nbformat_minor": 2
}
